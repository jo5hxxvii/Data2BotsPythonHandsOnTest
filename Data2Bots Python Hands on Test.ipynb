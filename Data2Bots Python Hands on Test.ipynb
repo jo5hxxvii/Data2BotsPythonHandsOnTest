{
 "cells": [
  {
   "cell_type": "code",
   "execution_count": 4,
   "metadata": {},
   "outputs": [],
   "source": [
    "import pandas as pd\n",
    "from datetime import datetime"
   ]
  },
  {
   "cell_type": "code",
   "execution_count": 2,
   "metadata": {},
   "outputs": [],
   "source": [
    "df = pd.read_csv('python hands-on - dataset.csv')"
   ]
  },
  {
   "cell_type": "code",
   "execution_count": 3,
   "metadata": {},
   "outputs": [
    {
     "name": "stdout",
     "output_type": "stream",
     "text": [
      "         date        sku warehouse_location  quantity\n",
      "0  2021-01-02  100940478              lagos        23\n",
      "1  2020-11-09  100940479              lagos        84\n",
      "2  2021-01-15  100940480                oyo        11\n",
      "3  2016-11-09  100940481               ogun        98\n",
      "4  2017-04-04  100940482               ogun        23\n",
      "5  2018-01-13  100940483               abia         3\n",
      "6  2021-03-15  100940484             kaduna         7\n",
      "7  2021-01-11  100940485              abuja         4\n",
      "8  2021-02-16  100940486               kano         9\n",
      "9  2019-06-06  100940487            anambra       199\n"
     ]
    }
   ],
   "source": [
    "print(df)"
   ]
  },
  {
   "cell_type": "code",
   "execution_count": 5,
   "metadata": {},
   "outputs": [],
   "source": [
    "def isObsolete(benchmark_date,date):\n",
    "    #date format must be 'yyyy-mm-dd'\n",
    "    try:\n",
    "        bm_date = datetime.strptime(benchmark_date,'%Y-%m-%d')\n",
    "        date_to_check = datetime.strptime(date,'%Y-%m-%d')\n",
    "        if date_to_check < bm_date:\n",
    "            return 'TRUE'\n",
    "        else:\n",
    "            return 'FALSE'\n",
    "    except TypeError as TE:\n",
    "        print('Date must be a string in the format \"yyyy-mm-dd\"')\n",
    "    except Exception as e:\n",
    "        print('Some Other Error Occured: '+str(e))    "
   ]
  },
  {
   "cell_type": "code",
   "execution_count": 7,
   "metadata": {},
   "outputs": [],
   "source": [
    "benchmark_date = '2021-01-01'"
   ]
  },
  {
   "cell_type": "code",
   "execution_count": 8,
   "metadata": {},
   "outputs": [],
   "source": [
    "df['obsolete'] = df['date'].apply(lambda x: isObsolete(benchmark_date,x))"
   ]
  },
  {
   "cell_type": "code",
   "execution_count": 10,
   "metadata": {},
   "outputs": [
    {
     "name": "stdout",
     "output_type": "stream",
     "text": [
      "         date        sku warehouse_location  quantity obsolete\n",
      "0  2021-01-02  100940478              lagos        23    FALSE\n",
      "1  2020-11-09  100940479              lagos        84     TRUE\n",
      "2  2021-01-15  100940480                oyo        11    FALSE\n",
      "3  2016-11-09  100940481               ogun        98     TRUE\n",
      "4  2017-04-04  100940482               ogun        23     TRUE\n",
      "5  2018-01-13  100940483               abia         3     TRUE\n",
      "6  2021-03-15  100940484             kaduna         7    FALSE\n",
      "7  2021-01-11  100940485              abuja         4    FALSE\n",
      "8  2021-02-16  100940486               kano         9    FALSE\n",
      "9  2019-06-06  100940487            anambra       199     TRUE\n"
     ]
    }
   ],
   "source": [
    "print(df)"
   ]
  },
  {
   "cell_type": "code",
   "execution_count": 21,
   "metadata": {},
   "outputs": [
    {
     "name": "stdout",
     "output_type": "stream",
     "text": [
      "File saved to current directory as python hands-on - dataset.json\n"
     ]
    }
   ],
   "source": [
    "exportname = 'python hands-on - dataset.json'\n",
    "try:\n",
    "    df.to_json(exportname,orient='columns')\n",
    "    print('File saved to current directory as '+ exportname)\n",
    "except Exception as e:\n",
    "    print('Error saving json file: '+str(e))"
   ]
  }
 ],
 "metadata": {
  "kernelspec": {
   "display_name": "Python 3",
   "language": "python",
   "name": "python3"
  },
  "language_info": {
   "codemirror_mode": {
    "name": "ipython",
    "version": 3
   },
   "file_extension": ".py",
   "mimetype": "text/x-python",
   "name": "python",
   "nbconvert_exporter": "python",
   "pygments_lexer": "ipython3",
   "version": "3.7.6"
  }
 },
 "nbformat": 4,
 "nbformat_minor": 4
}
